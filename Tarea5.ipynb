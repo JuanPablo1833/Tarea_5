{
  "nbformat": 4,
  "nbformat_minor": 0,
  "metadata": {
    "colab": {
      "name": "Tarea5.ipynb",
      "provenance": [],
      "collapsed_sections": [],
      "authorship_tag": "ABX9TyNeHt6NOVK9VcUJh/DueExd",
      "include_colab_link": true
    },
    "kernelspec": {
      "name": "python3",
      "display_name": "Python 3"
    },
    "language_info": {
      "name": "python"
    }
  },
  "cells": [
    {
      "cell_type": "markdown",
      "metadata": {
        "id": "view-in-github",
        "colab_type": "text"
      },
      "source": [
        "<a href=\"https://colab.research.google.com/github/JuanPablo1833/Tarea_5/blob/main/Tarea5.ipynb\" target=\"_parent\"><img src=\"https://colab.research.google.com/assets/colab-badge.svg\" alt=\"Open In Colab\"/></a>"
      ]
    },
    {
      "cell_type": "code",
      "metadata": {
        "colab": {
          "base_uri": "https://localhost:8080/"
        },
        "id": "36lT0X1d2f0k",
        "outputId": "1f848d3b-ddf3-4743-9f2d-c2b37be2b863"
      },
      "source": [
        "archivo = open('june1.dat', 'rt', encoding='latin-1')\n",
        "print(archivo.readlines())\n"
      ],
      "execution_count": null,
      "outputs": [
        {
          "output_type": "stream",
          "name": "stdout",
          "text": [
            "['numero de trabajador, nombres, paterno, materno, horas extra, sueldo base, aÃ\\x83Â±o de ingreso\\n', '2345,CARLOS,PEREZ,CASTILLO,0,9850,2017\\n', '5754,ANGEL,GOMEZ,GARRIDO,1,9850,2020\\n', '5345,JESUS,MARTIN,SANTOS,2,9850,2016\\n', '3267,DAVID,JIMENEZ,LOZANO,2,9850,2017\\n', '8765,PEDRO,RUIZ,GUERRERO,2,9850,2017\\n', '5454,DANIEL,HERNANDEZ,CANO,3,9850,2018\\n', '3456,ALEJANDRO,DIAZ,PRIETO,2,9850,2018\\n', '3445,MARIA,MORENO,MENDEZ,1,9850,2018\\n', '9088,ALBERTO,MUâ\\x80\\x9eOZ,CRUZ,1,9850,2017\\n', '8877,RAFAEL,ALVAREZ,FLORES,2,9850,2017\\n', '6767,FERNANDO,ROMERO,HERRERA,4,9850,2019\\n', '5654,PABLO,ALONSO,GALLEGO,1,9850,2019\\n', '4323,JORGE,GUTIERREZ,MARQUEZ,2,9850,2020\\n', '2232,RAMON,NAVARRO,LEON,1,9850,2016\\n']\n"
          ]
        }
      ]
    },
    {
      "cell_type": "code",
      "metadata": {
        "id": "KvAmxa8nG3qA"
      },
      "source": [
        "class Array:\n",
        "  def __init__( self , tam ):\n",
        "      self.__tamanio = tam\n",
        "      self.__data = [ 0 for x in range(self.__tamanio) ]\n",
        "\n",
        "  def to_string( self ):\n",
        "      info = \"\"\n",
        "      for dato in self.__data:\n",
        "         info = info + str(dato) +\"|\"\n",
        "      return info\n",
        " \n",
        "  def get_item( self , index ):\n",
        "       return self.__data[index]\n",
        "\n",
        "  def get_length( self ):\n",
        "      return len( self.__data )\n",
        "\n",
        "  def set_item( self , dato , index):\n",
        "# hace falta revisar limites\n",
        "      if index >= 0 and index < self.get_length():\n",
        "         self.__data[index] = dato\n",
        "      else:\n",
        "         print(\"Error: indice fuera de rango\")\n",
        "\n",
        "  def clear( self , dato ):\n",
        "      self.__data = [ dato for x in range(self.__tamanio) ]"
      ],
      "execution_count": null,
      "outputs": []
    },
    {
      "cell_type": "code",
      "metadata": {
        "colab": {
          "base_uri": "https://localhost:8080/"
        },
        "id": "cuOGhz8K1WJf",
        "outputId": "b9db0355-37b0-4a00-bd4d-d696640af284"
      },
      "source": [
        "class Trabajador:\n",
        "    def __init__(self, nt, nom, pat, mat, he, sb, ai):\n",
        "        self.__numero_trabajador = nt  \n",
        "        self.__nombre = nom\n",
        "        self.__paterno = pat\n",
        "        self.__materno = mat\n",
        "        self.__horas_extra = he  \n",
        "        self.__sueldo_base = sb  \n",
        "        self.__anio_ingreso = ai    \n",
        "        #asi para todos los atributos\n",
        "        \n",
        "    #aqui van todos los metodos de acceso\n",
        "    def set_numero_trabajador(self, nt):\n",
        "        self.__numero_trabajador = nt  \n",
        "    def get_numero_trabajdor(self):\n",
        "        return self.__numero_trabajador \n",
        "\n",
        "    def set_nombre(self, nom):\n",
        "        self.__nombre = nom  \n",
        "    def get_nombre(self):\n",
        "        return self.__nombre\n",
        "\n",
        "    def set_nombre(self, nom):\n",
        "        self.__nombre = nom  \n",
        "    def get_nombre(self):\n",
        "        return self.__nombre\n",
        "\n",
        "    def set_paterno(self, pat):\n",
        "        self.__paterno = pat \n",
        "    def get_paterno(self):\n",
        "        return self.__paterno\n",
        "\n",
        "    def set_materno(self, mat):\n",
        "        self.__materno = mat \n",
        "    def get_materno(self):\n",
        "        return self.__materno\n",
        "\n",
        "    def set_horas_extra(self, he):\n",
        "        self.__horas_extra = he\n",
        "    def get_horas_extra(self):\n",
        "        return self.__horas_extra\n",
        "\n",
        "    def set_sueldo_base(self, sb):\n",
        "        self.__sueldo_base = sb\n",
        "    def get_sueldo_base(self):\n",
        "        return self.__sueldo_base\n",
        "\n",
        "    def set_anio_ingreso(self, ai):\n",
        "        self.__anio_ingreso = ai\n",
        "    def get_anio_ingreso(self):\n",
        "        return self.__anio_ingreso\n",
        "\n",
        "\n",
        "    #metodos de uso general... calculos de logistica  \n",
        "\n",
        "\n",
        "\n",
        "    def calcular_sueldo_mensual(self):\n",
        "        anios = 2021 - self.get_anio_ingreso()\n",
        "      \n",
        "        sueldo = self.get_sueldo_base()\n",
        "        \n",
        "        \n",
        "        \n",
        "        #horas extra\n",
        "        sueldo += self.get_horas_extra() + 276.5\n",
        "        #agragar prestaciones por antiguedad\n",
        "        sueldo = sueldo + (sueldo * anios *  0.03)\n",
        "        return sueldo\n",
        "    def to_string(self):\n",
        "        return \"nombre: \" + self.__nombre + \"sueldo: $\" + str(self.calcular_sueldo_mensual())\n",
        "\n",
        "    def calcular_antiguedad(self):\n",
        "        return 2021 - self.get_anio_ingreso()\n",
        "\n",
        "\n",
        "emp = Trabajador(2345,\"CARLOS \",\"PEREZ\",\"CASTILLO\",1,9850,2017)\n",
        "print(emp.get_sueldo_base())\n",
        "print(emp.get_horas_extra())\n",
        "print(emp.calcular_antiguedad())\n",
        "print(emp.to_string())"
      ],
      "execution_count": 157,
      "outputs": [
        {
          "output_type": "stream",
          "name": "stdout",
          "text": [
            "9850\n",
            "1\n",
            "4\n",
            "nombre: CARLOS sueldo: $11342.8\n"
          ]
        }
      ]
    },
    {
      "cell_type": "code",
      "metadata": {
        "colab": {
          "base_uri": "https://localhost:8080/"
        },
        "id": "_6CX8IhY2W8M",
        "outputId": "b75e9a14-fb7f-4b71-d2a3-7558c256a882"
      },
      "source": [
        "class Nomina:\n",
        "    def __init__(self, ruta_archivo):\n",
        "        #abrir el archivo y terminar el numero de empleados\n",
        "        archivo = open(ruta_archivo, 'rt', encoding='latin-1')\n",
        "        empleados = archivo.readlines()\n",
        "       \n",
        "        del empleados[0]\n",
        "        for index in range(len(empleados)):\n",
        "            empleados[index] = empleados[index].strip().split(\",\")\n",
        "        self.__data=Array(len(empleados))\n",
        "        contador = 0\n",
        "        for emp in empleados:\n",
        "            tt = Trabajador(int(emp[0]), emp[1], emp[2], emp[3], int(emp[4]), int(emp[5]), int(emp[6]) )\n",
        "            self.__data.set_item(tt , contador)\n",
        "            contador += 1\n",
        "        \n",
        "     \n",
        "\n",
        "    def buscar_mas_antiguo(self):\n",
        "        pass\n",
        "      \n",
        "\n",
        "    def buscar_menor_antiguedad(self):\n",
        "        pass\n",
        "\n",
        "    def calcular_sueldos(self):\n",
        "        for index in range(self.__data.get_length()):\n",
        "            print(self.__data.get_item(index).to_string())\n",
        "\n",
        "\n",
        "\n",
        "\n",
        "ejemplo = Nomina(\"june1.dat\")\n",
        "ejemplo.calcular_sueldos()\n",
        "#ejemplo.buscar_mas_antiguo()\n",
        "#print(emp.calcular_antiguedad())\n",
        "       "
      ],
      "execution_count": 167,
      "outputs": [
        {
          "output_type": "stream",
          "name": "stdout",
          "text": [
            "nombre: CARLOSsueldo: $11341.68\n",
            "nombre: ANGELsueldo: $10431.325\n",
            "nombre: JESUSsueldo: $11647.775\n",
            "nombre: DAVIDsueldo: $11343.92\n",
            "nombre: PEDROsueldo: $11343.92\n",
            "nombre: DANIELsueldo: $11041.155\n",
            "nombre: ALEJANDROsueldo: $11040.065\n",
            "nombre: MARIAsueldo: $11038.975\n",
            "nombre: ALBERTOsueldo: $11342.8\n",
            "nombre: RAFAELsueldo: $11343.92\n",
            "nombre: FERNANDOsueldo: $10738.33\n",
            "nombre: PABLOsueldo: $10735.15\n",
            "nombre: JORGEsueldo: $10432.355\n",
            "nombre: RAMONsueldo: $11646.625\n"
          ]
        }
      ]
    }
  ]
}